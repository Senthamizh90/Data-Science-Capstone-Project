# This is Data Science Capstone Project
import pandas as pd
import numpy as np
print("Hello Capstone Project Course!")


print("###dataframe will consist of three columns: PostalCode, Borough, and Neighborhood")
df1 = pd.read_csv('Toronto Data.csv')
print(df1)
print("""

Process the cells that have an assigned borough.""")
df2 = df1[df1.Borough  != 'Not assigned']
print(df2)


missing_data = df2.isnull()
for column in missing_data.columns.values.tolist():
    print("More than one neighborhood can exist in one postal code area.")
    print(column)
    print (missing_data[column].value_counts())
    print("")

print("print the number of rows of your dataframe")
print(df2.shape)

    
    
